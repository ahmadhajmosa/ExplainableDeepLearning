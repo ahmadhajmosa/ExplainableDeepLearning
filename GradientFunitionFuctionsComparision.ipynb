{
  "nbformat": 4,
  "nbformat_minor": 0,
  "metadata": {
    "colab": {
      "name": "GradientFunitionFuctionsComparision.ipynb",
      "version": "0.3.2",
      "provenance": [],
      "collapsed_sections": [],
      "include_colab_link": true
    },
    "kernelspec": {
      "name": "python3",
      "display_name": "Python 3"
    }
  },
  "cells": [
    {
      "cell_type": "markdown",
      "metadata": {
        "id": "view-in-github",
        "colab_type": "text"
      },
      "source": [
        "<a href=\"https://colab.research.google.com/github/ahmadhajmosa/ExplainableDeepLearning/blob/master/GradientFunitionFuctionsComparision.ipynb\" target=\"_parent\"><img src=\"https://colab.research.google.com/assets/colab-badge.svg\" alt=\"Open In Colab\"/></a>"
      ]
    },
    {
      "cell_type": "markdown",
      "metadata": {
        "id": "WNmOfxpRJKCV",
        "colab_type": "text"
      },
      "source": [
        "# Download MNIST dataset"
      ]
    },
    {
      "cell_type": "code",
      "metadata": {
        "id": "XJgoitNAAIeJ",
        "colab_type": "code",
        "colab": {}
      },
      "source": [
        "from keras.datasets import mnist\n",
        "import pandas as pd\n",
        "\n",
        "import keras\n",
        "import keras.backend as K\n",
        "\n",
        "from keras.layers import Input, Dense, BatchNormalization, add\n",
        "from keras.models import Sequential, Model\n",
        "from keras.initializers import random_uniform, glorot_uniform\n",
        "import tensorflow as tf\n",
        "import numpy as np\n",
        "\n",
        "\n",
        "tf.compat.v1.random.set_random_seed(1234) #fix seeds\n",
        "# input image dimensions\n",
        "img_rows, img_cols = 28, 28\n",
        "\n",
        "# the data, split between train and test sets\n",
        "(x_train, y_train), (x_test, y_test) = mnist.load_data()\n",
        "\n",
        "\n",
        "#\n",
        "num_classes = 10\n",
        "epochs = 12\n",
        "\n",
        "x_train = x_train.reshape(x_train.shape[0], img_rows * img_cols)\n",
        "x_test = x_test.reshape(x_test.shape[0], img_rows * img_cols)\n",
        "\n",
        "x_train= x_train/255 # standardization of the data\n",
        "\n",
        "\n",
        "input_shape = img_rows * img_cols\n",
        "\n",
        "\n"
      ],
      "execution_count": 0,
      "outputs": []
    },
    {
      "cell_type": "markdown",
      "metadata": {
        "id": "_2yMrc-pJGJt",
        "colab_type": "text"
      },
      "source": [
        "# Model Creation "
      ]
    },
    {
      "cell_type": "code",
      "metadata": {
        "id": "PKmx7eMeqDsT",
        "colab_type": "code",
        "colab": {}
      },
      "source": [
        "\n",
        "\n",
        "# get gradient norm of each layer\n",
        "\n",
        "def get_gradient_norm(model,layer_index):\n",
        "        with K.name_scope('gradient_norm'):\n",
        "            grads = K.gradients(model.total_loss, model.layers[layer_index].input)\n",
        "            norm = K.sqrt(sum([K.sum(K.square(g)) for g in grads]))        \n",
        "        return norm\n",
        "      \n",
        "# get abs grad of all neurons\n",
        "   \n",
        "def get_abs_gradients(model,layer_index):\n",
        "        with K.name_scope('gradient_norm'):\n",
        "            grads = K.abs(K.gradients(model.total_loss, model.layers[layer_index].input))\n",
        "        return grads     \n",
        "\n",
        " \n",
        "def test_model(num_h_layers,activation, with_skip = False):\n",
        "\n",
        "      \n",
        "    activations = []  # neurons activations list\n",
        "    \n",
        "    inp = Input(shape=(input_shape,))\n",
        "    \n",
        "    z = Dense(100,activation=activation,kernel_initializer=glorot_uniform(seed=1),use_bias=False)(inp)  # first hidden layer\n",
        "    \n",
        "    for i in range(num_h_layers): # rest of hidden layers\n",
        "      \n",
        "        x = Dense(100,activation=activation,kernel_initializer=glorot_uniform(seed=1),use_bias=False)(z)\n",
        "        \n",
        "        if with_skip: # with skip connections\n",
        "          z = add([z,x])\n",
        "        else:\n",
        "          z=x\n",
        "        activations.append(z)\n",
        "        \n",
        "    \n",
        "    # output layer\n",
        "\n",
        "    x = Dense(num_classes,activation='softmax',kernel_initializer=glorot_uniform(seed=1),use_bias=False)(z)  \n",
        "\n",
        "    model = Model(inp,x)\n",
        "    model.compile(loss='categorical_crossentropy',optimizer='adam',metrics=['acc'])\n",
        "\n",
        "    \n",
        "    # creating the gradient checking list of tensor\n",
        "    gradient = []\n",
        "    for la_ind in range(0,num_h_layers-2,1):\n",
        "      gradient.append(get_gradient_norm(model,la_ind+1))\n",
        "      \n",
        "      \n",
        "    gradient_tensors = K.stack(gradient)  # stacking the gradient tensors\n",
        "    activation_tensors = K.stack(activations)  # stacking the activation tensors\n",
        "\n",
        "    # adding the gradient tensors to the metrics\n",
        "    model.metrics_names.append(\"weights_gradient\")\n",
        "    \n",
        "    model.metrics_tensors.append(gradient_tensors)\n",
        "\n",
        "    # adding the activation tensors to the metrics\n",
        "    model.metrics_names.append(\"activations\")\n",
        "   \n",
        "    model.metrics_tensors.append(activation_tensors)    \n",
        "\n",
        "    # train for 5 iterations using a batch of 10 images\n",
        "    gradients=[]\n",
        "    accs = []\n",
        "    acts=[]\n",
        "    for batch in range(5):\n",
        "\n",
        "      _,acc,grad, act = model.train_on_batch(x_train[:10],y_train[:10])  # batch with th size 1\n",
        "      gradients.append(grad)\n",
        "      acts.append(act)\n",
        "      accs.append(acc)\n",
        "      \n",
        "    return gradients, acts, accs\n",
        "\n",
        "\n",
        "# call the model using 15 layers with different activation functions\n",
        "gradients = dict()\n",
        "activations = dict()\n",
        "accs=dict()\n",
        "N =15\n",
        "activations_list=['relu','elu','softplus','tanh','sigmoid']\n",
        "for activation in activations_list:\n",
        "  gradients[activation], activations[activation],accs[activation]=test_model(N,activation)\n"
      ],
      "execution_count": 0,
      "outputs": []
    },
    {
      "cell_type": "markdown",
      "metadata": {
        "id": "6fcxxRHtJiFl",
        "colab_type": "text"
      },
      "source": [
        "# Plotly Layout Configration "
      ]
    },
    {
      "cell_type": "code",
      "metadata": {
        "id": "uiggHMeGJhCx",
        "colab_type": "code",
        "colab": {}
      },
      "source": [
        "layout = go.Layout(\n",
        "    xaxis=dict(\n",
        "                title='Depth of the network: 0 is the input layer',\n",
        "\n",
        "               titlefont=dict(\n",
        "            family='Arial, sans-serif',\n",
        "            size=18,\n",
        "            color='black'\n",
        "        ),\n",
        "        tickmode='linear',\n",
        "        ticks='outside',\n",
        "        tick0=0,\n",
        "        dtick=1,\n",
        "        ticklen=8,\n",
        "        tickwidth=4,\n",
        "        tickcolor='#000'\n",
        "    ),\n",
        "    yaxis=dict(\n",
        "         title='Training Epochs',\n",
        "\n",
        "               titlefont=dict(\n",
        "            family='Arial, sans-serif',\n",
        "            size=18,\n",
        "            color='black'\n",
        "        ),\n",
        "        tickmode='linear',\n",
        "        ticks='outside',\n",
        "        tick0=0,\n",
        "        dtick=1,\n",
        "        ticklen=8,\n",
        "        tickwidth=4,\n",
        "        tickcolor='#000'\n",
        "    )\n",
        ")"
      ],
      "execution_count": 0,
      "outputs": []
    },
    {
      "cell_type": "markdown",
      "metadata": {
        "id": "BfPxnOntJRlp",
        "colab_type": "text"
      },
      "source": [
        "# Reporting"
      ]
    },
    {
      "cell_type": "markdown",
      "metadata": {
        "id": "CSEcmfsGJ62I",
        "colab_type": "text"
      },
      "source": [
        "#ELU"
      ]
    },
    {
      "cell_type": "code",
      "metadata": {
        "id": "v2U_ijUIfv31",
        "colab_type": "code",
        "outputId": "a1cc369b-7244-4711-df5e-0a302235e415",
        "colab": {
          "base_uri": "https://localhost:8080/",
          "height": 545
        }
      },
      "source": [
        "import plotly.plotly as py\n",
        "import plotly.graph_objs as go\n",
        "\n",
        "\n",
        "\n",
        "display(accs['elu'])\n",
        "trace = go.Heatmap(z=gradients['elu'])\n",
        "data=[trace]\n",
        "\n",
        "\n",
        "fig = go.Figure(data=data, layout=layout)\n",
        "\n",
        "py.iplot(fig, filename='elu')\n",
        "\n",
        "\n"
      ],
      "execution_count": 0,
      "outputs": [
        {
          "output_type": "execute_result",
          "data": {
            "text/html": [
              "<iframe id=\"igraph\" scrolling=\"no\" style=\"border:none;\" seamless=\"seamless\" src=\"https://plot.ly/~ahmadhajmosa/4.embed\" height=\"525px\" width=\"100%\"></iframe>"
            ],
            "text/plain": [
              "<plotly.tools.PlotlyDisplay object>"
            ]
          },
          "metadata": {
            "tags": []
          },
          "execution_count": 28
        }
      ]
    },
    {
      "cell_type": "markdown",
      "metadata": {
        "colab_type": "text",
        "id": "YUOSUlMVKIGV"
      },
      "source": [
        "#Relu"
      ]
    },
    {
      "cell_type": "code",
      "metadata": {
        "colab_type": "code",
        "outputId": "fffffac4-d910-4911-9a9c-0f52ca778a44",
        "id": "yOL7YtcFKIGX",
        "colab": {
          "base_uri": "https://localhost:8080/",
          "height": 564
        }
      },
      "source": [
        "import plotly.plotly as py\n",
        "import plotly.graph_objs as go\n",
        "\n",
        "\n",
        "\n",
        "display(accs['relu'])\n",
        "trace = go.Heatmap(z=gradients['relu'])\n",
        "data=[trace]\n",
        "\n",
        "\n",
        "fig = go.Figure(data=data, layout=layout)\n",
        "\n",
        "py.iplot(fig, filename='relu')\n",
        "\n",
        "\n"
      ],
      "execution_count": 54,
      "outputs": [
        {
          "output_type": "display_data",
          "data": {
            "text/plain": [
              "[0.1, 0.1, 0.1, 0.1, 0.1]"
            ]
          },
          "metadata": {
            "tags": []
          }
        },
        {
          "output_type": "execute_result",
          "data": {
            "text/html": [
              "<iframe id=\"igraph\" scrolling=\"no\" style=\"border:none;\" seamless=\"seamless\" src=\"https://plot.ly/~ahmadhajmosa/20.embed\" height=\"525px\" width=\"100%\"></iframe>"
            ],
            "text/plain": [
              "<plotly.tools.PlotlyDisplay object>"
            ]
          },
          "metadata": {
            "tags": []
          },
          "execution_count": 54
        }
      ]
    },
    {
      "cell_type": "markdown",
      "metadata": {
        "id": "tbWBSEdoKYEx",
        "colab_type": "text"
      },
      "source": [
        "# Softplus"
      ]
    },
    {
      "cell_type": "code",
      "metadata": {
        "id": "Orb5PydNf684",
        "colab_type": "code",
        "outputId": "431866bd-58e4-4638-de7f-73d75488dc11",
        "colab": {
          "base_uri": "https://localhost:8080/",
          "height": 564
        }
      },
      "source": [
        "\n",
        "display(accs['softplus'])\n",
        "trace = go.Heatmap(z=gradients['softplus'])\n",
        "data=[trace]\n",
        "\n",
        "\n",
        "fig = go.Figure(data=data, layout=layout)\n",
        "\n",
        "py.iplot(fig, filename='softplus')"
      ],
      "execution_count": 55,
      "outputs": [
        {
          "output_type": "display_data",
          "data": {
            "text/plain": [
              "[0.1, 0.1, 0.3, 0.3, 0.3]"
            ]
          },
          "metadata": {
            "tags": []
          }
        },
        {
          "output_type": "execute_result",
          "data": {
            "text/html": [
              "<iframe id=\"igraph\" scrolling=\"no\" style=\"border:none;\" seamless=\"seamless\" src=\"https://plot.ly/~ahmadhajmosa/18.embed\" height=\"525px\" width=\"100%\"></iframe>"
            ],
            "text/plain": [
              "<plotly.tools.PlotlyDisplay object>"
            ]
          },
          "metadata": {
            "tags": []
          },
          "execution_count": 55
        }
      ]
    },
    {
      "cell_type": "markdown",
      "metadata": {
        "id": "ylHKUCbMKrRJ",
        "colab_type": "text"
      },
      "source": [
        "# Sigmoid"
      ]
    },
    {
      "cell_type": "code",
      "metadata": {
        "id": "1Pa6bAAMgE3s",
        "colab_type": "code",
        "outputId": "e5b18f7c-2210-452f-f348-ad9785086c31",
        "colab": {
          "base_uri": "https://localhost:8080/",
          "height": 564
        }
      },
      "source": [
        "\n",
        "display(accs['sigmoid'])\n",
        "trace = go.Heatmap(z=gradients['sigmoid'])\n",
        "data=[trace]\n",
        "\n",
        "\n",
        "fig = go.Figure(data=data, layout=layout)\n",
        "\n",
        "py.iplot(fig, filename='softplus')"
      ],
      "execution_count": 56,
      "outputs": [
        {
          "output_type": "display_data",
          "data": {
            "text/plain": [
              "[0.1, 0.1, 0.1, 0.2, 0.3]"
            ]
          },
          "metadata": {
            "tags": []
          }
        },
        {
          "output_type": "execute_result",
          "data": {
            "text/html": [
              "<iframe id=\"igraph\" scrolling=\"no\" style=\"border:none;\" seamless=\"seamless\" src=\"https://plot.ly/~ahmadhajmosa/18.embed\" height=\"525px\" width=\"100%\"></iframe>"
            ],
            "text/plain": [
              "<plotly.tools.PlotlyDisplay object>"
            ]
          },
          "metadata": {
            "tags": []
          },
          "execution_count": 56
        }
      ]
    },
    {
      "cell_type": "markdown",
      "metadata": {
        "id": "m70imfOmKxZa",
        "colab_type": "text"
      },
      "source": [
        "# Tanh"
      ]
    },
    {
      "cell_type": "code",
      "metadata": {
        "id": "rkWPs-mGOo2d",
        "colab_type": "code",
        "outputId": "7e16e970-bd78-42b7-fbda-01acf6a53295",
        "colab": {
          "base_uri": "https://localhost:8080/",
          "height": 564
        }
      },
      "source": [
        "\n",
        "display(accs['tanh'])\n",
        "trace = go.Heatmap(z=gradients['tanh'])\n",
        "data=[trace]\n",
        "\n",
        "\n",
        "fig = go.Figure(data=data, layout=layout)\n",
        "\n",
        "py.iplot(fig, filename='tanh')"
      ],
      "execution_count": 57,
      "outputs": [
        {
          "output_type": "display_data",
          "data": {
            "text/plain": [
              "[0.0, 0.8, 0.9, 0.9, 0.9]"
            ]
          },
          "metadata": {
            "tags": []
          }
        },
        {
          "output_type": "execute_result",
          "data": {
            "text/html": [
              "<iframe id=\"igraph\" scrolling=\"no\" style=\"border:none;\" seamless=\"seamless\" src=\"https://plot.ly/~ahmadhajmosa/22.embed\" height=\"525px\" width=\"100%\"></iframe>"
            ],
            "text/plain": [
              "<plotly.tools.PlotlyDisplay object>"
            ]
          },
          "metadata": {
            "tags": []
          },
          "execution_count": 57
        }
      ]
    }
  ]
}